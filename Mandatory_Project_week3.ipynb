{
  "nbformat": 4,
  "nbformat_minor": 0,
  "metadata": {
    "colab": {
      "provenance": [],
      "authorship_tag": "ABX9TyO5Jti5HySH0yd68QbJhF/n",
      "include_colab_link": true
    },
    "kernelspec": {
      "name": "python3",
      "display_name": "Python 3"
    },
    "language_info": {
      "name": "python"
    }
  },
  "cells": [
    {
      "cell_type": "markdown",
      "metadata": {
        "id": "view-in-github",
        "colab_type": "text"
      },
      "source": [
        "<a href=\"https://colab.research.google.com/github/Kamalrautela31/Instagram_project/blob/main/Mandatory_Project_week3.ipynb\" target=\"_parent\"><img src=\"https://colab.research.google.com/assets/colab-badge.svg\" alt=\"Open In Colab\"/></a>"
      ]
    },
    {
      "cell_type": "markdown",
      "source": [
        "Q1: You are working in a bank, and you have been given two lists of employees who worked in 2021.Employees' names in list1 are Ramesh, Suresh,Mahesh,Ali,Jacob, and Saritha.List 2 contains the names of Ali,Mukesh, Mahesh, Jacob,Sai, and Sarita. Please write a program that helps to identify people who are common in both lists. Please do not use any in-built function."
      ],
      "metadata": {
        "id": "b4qfW9UJyK2n"
      }
    },
    {
      "cell_type": "code",
      "source": [
        "def intersection(list2021_1,list2021_2):\n",
        "    comn_list = [value for value in list2021_1 if value in list2021_2]\n",
        "    return comn_list\n",
        "list2021_1=['Ramesh','Suresh','Mahesh','Ali','Jacob','Saritha']\n",
        "list2021_2=['Ali','Mukesh','Mahesh','Jacob','Sai','Sarita']\n",
        "intersection(list2021_1,list2021_2)\n",
        "\n",
        "#print(list(set(list2021_1)& set(list2021_2)))\n"
      ],
      "metadata": {
        "colab": {
          "base_uri": "https://localhost:8080/"
        },
        "id": "5nqkvnu9UtQ2",
        "outputId": "d4b7542b-c730-40e0-a745-d767197fb64d"
      },
      "execution_count": 18,
      "outputs": [
        {
          "output_type": "stream",
          "name": "stdout",
          "text": [
            "['Jacob', 'Mahesh', 'Ali']\n"
          ]
        }
      ]
    },
    {
      "cell_type": "markdown",
      "source": [
        "Q2.While entering data, someone entered a few names as a common string\"Ramesh Suresh Mohit\". Please write a program which separates all the names and converts them into a list. Once converted into a list, please write a program that adds their age.\n",
        "\n",
        "Ramesh:25\n",
        "\n",
        "Suresh:22\n",
        "\n",
        "Mohit:26\n"
      ],
      "metadata": {
        "id": "VSrxB_Exvmfk"
      }
    },
    {
      "cell_type": "code",
      "source": [
        "# the following code takes the input string, converts to list after splitting the string\n",
        "string=input()\n",
        "str_list=list(string.split())\n",
        "print(\"Here is the list:\",str_list,'\\n')\n",
        "\n",
        "age = []\n",
        "# it will take input of ages and append them into str_list\n",
        "print('enter their ages')\n",
        "for i in range (0, len(str_list)):\n",
        "  num=int(input())\n",
        "  age.append(num)\n",
        "  print(str_list[i],':',age[i])\n",
        "# here follows the  coding for adding their ages\n",
        "total_age=0\n",
        "for i in range(0,len(age)):\n",
        "  total_age= age[i]+ total_age\n",
        "print(\"total sum of age:\",total_age)"
      ],
      "metadata": {
        "colab": {
          "base_uri": "https://localhost:8080/"
        },
        "id": "cCSiDFb3aKYL",
        "outputId": "9310c78b-cd69-48c7-8548-8348a5f1ef81"
      },
      "execution_count": 41,
      "outputs": [
        {
          "output_type": "stream",
          "name": "stdout",
          "text": [
            "kamal singh\n",
            "Here is the list: ['kamal', 'singh'] \n",
            "\n",
            "enter their ages\n",
            "23\n",
            "kamal : 2324\n",
            "singh : 24total sum of age: 47\n"
          ]
        }
      ]
    },
    {
      "cell_type": "markdown",
      "source": [
        "Q3: You are working in a medical store. A patient came to your medical store and asked to buy 2 strips of paracetamol, 3 strips of axithromycin, and 5 strips of Vitamin C. One strip of paracetamol costs Rs 35, one strip of axithromycin costs Rs 49, and one strip of vitamin C costs Rs. 33. Patient gave you Rs2000. Please tell us what is the total cost of each medicine, the total cost of all medicine, and how much money you refunded to the patient.\n"
      ],
      "metadata": {
        "id": "1ik7L0LXwpMz"
      }
    },
    {
      "cell_type": "code",
      "source": [
        "# assigning the costs of each medicine to the variable\n",
        "pctmol=35\n",
        "axtmycin=49\n",
        "vitaC=33\n",
        "p=int(input(\"total strips of paracetamol required: \"))\n",
        "a=int(input(\"total strips of axithromycin required: \"))\n",
        "v=int(input(\" total strips of Vitamin C required: \"))\n",
        "print(\"Cost of each paracetamol strip =\",pctmol,'\\nCost of each axithromycin strip =',axtmycin,'\\ntotal cost of each vitamin C strip =',vitaC)\n",
        "Total_cost= (pctmol*p)+(axtmycin*a)+(vitaC*v) # calulates the total cost of medicine\n",
        "print('Total bill amount=',Total_cost)\n",
        "payment=int(input('Total amount paid by patient ='))\n",
        "# Condition for refund\n",
        "if payment>Total_cost:\n",
        "  refund_amount=payment-Total_cost\n",
        "  print('money refunded to the patient = ',refund_amount)\n",
        "else:\n",
        "  refund_amount=Total_cost-payment\n",
        "  print('Pending amount from patient = ',refund_amount)\n"
      ],
      "metadata": {
        "colab": {
          "base_uri": "https://localhost:8080/"
        },
        "id": "lvbh9PJUqfHl",
        "outputId": "714f9afa-eb35-4586-9105-6ce441dd42ff"
      },
      "execution_count": 52,
      "outputs": [
        {
          "output_type": "stream",
          "name": "stdout",
          "text": [
            "total strips of paracetamol required: 2\n",
            "total strips of axithromycin required: 3\n",
            " total strips of Vitamin C required: 44\n",
            "Cost of each paracetamol strip = 35 \n",
            "Cost of each axithromycin strip = 49 \n",
            "total cost of each vitamin C strip = 33\n",
            "Total bill amount= 1669\n",
            "Total amount paid by customer =2000\n",
            "money refunded to the patient =  331\n"
          ]
        }
      ]
    },
    {
      "cell_type": "markdown",
      "source": [
        "Q4: Accept a sentence as input and find the number of vowels in it. Assume that the sentence has no punctuation marks. For example, I am learning python contains 6 vowels.This function should be applicable for all other different sentences."
      ],
      "metadata": {
        "id": "_gOiSESBwqZF"
      }
    },
    {
      "cell_type": "code",
      "source": [
        "string=input(\"Enter the sentence please:\")\n",
        "vowels=0\n",
        "for i in string:\n",
        "      if(i=='a' or i=='e' or i=='i' or i=='o' or i=='u' or i=='A' or i=='E' or i=='I' or i=='O' or i=='U'):\n",
        "            vowels=vowels+1\n",
        "print(\"Number of vowels are:\")\n",
        "print(vowels)\n"
      ],
      "metadata": {
        "colab": {
          "base_uri": "https://localhost:8080/"
        },
        "id": "oO6bwSDcx6Cd",
        "outputId": "f0c0c56b-c5b0-40f8-b469-f394b24a045e"
      },
      "execution_count": 57,
      "outputs": [
        {
          "output_type": "stream",
          "name": "stdout",
          "text": [
            "enter the sentence please:kamal isa an epic person\n",
            "Number of vowels are:\n",
            "9\n"
          ]
        }
      ]
    },
    {
      "cell_type": "markdown",
      "source": [
        "Q5: You have been appointed by the election commission to create a website. Your first task is to work on a program which tells candidates if they are eligible for voting or not. If they are eligible, your output should be 'Congrats! You are eligible'; otherwise, it should tell that you have to return after X number of years. The eligibility criteria for voting is 18 years.\n",
        "\n",
        "For example, if someone is 18 or above, your output should be 'Congrats! You are eligible'. If someone's age is 15 years, it should print output as 'return after 3 years'."
      ],
      "metadata": {
        "id": "wpNaAVlYw970"
      }
    },
    {
      "cell_type": "code",
      "source": [
        "def voting_eligibility():\n",
        "\n",
        "  age=int(input(' Check if you are eligible for voting or not ? \\nEnter your current age here :'))\n",
        "  if age >=18:\n",
        "    print(\"Congrats! You are eligible\")\n",
        "  else:\n",
        "    print('return after ',18-age,'years')\n",
        "\n",
        "voting_eligibility()\n"
      ],
      "metadata": {
        "colab": {
          "base_uri": "https://localhost:8080/"
        },
        "id": "19IpAGfp0wrR",
        "outputId": "ee6e18f5-4ddb-4da8-9998-8debea87f113"
      },
      "execution_count": 64,
      "outputs": [
        {
          "output_type": "stream",
          "name": "stdout",
          "text": [
            " Check if you are eligible for voting or not ? \n",
            "Enter your current age here :16\n",
            "return after  2 years\n"
          ]
        }
      ]
    },
    {
      "cell_type": "markdown",
      "source": [
        "Q6: Given a list of integers, find the cumulative sum of the elements of the list and store them in another list.\n",
        "\n",
        "A=[1,2,3,4,5]\n",
        "\n",
        "output:\n",
        "\n",
        "[1,3,6,10,15]\n"
      ],
      "metadata": {
        "id": "yInPpbFCxwmS"
      }
    },
    {
      "cell_type": "code",
      "source": [],
      "metadata": {
        "id": "cTITWr7g29N1"
      },
      "execution_count": null,
      "outputs": []
    },
    {
      "cell_type": "markdown",
      "source": [
        "Q7: WAP to encode a message entered by user as per below conditions:\n",
        "for every word in the sentence,\n",
        "1. If the word starts with a vowel, encode it as first and last letter of the word.\n",
        "2. If the word starts with a consonant, remove all vowels from it.\n",
        "\n",
        "Ensure the case insensitive comparisions/checks are performed.\n",
        "\n",
        "Please enter your text:\n",
        "\n",
        "The quick brown fox used to sleep inside this box\n",
        "\n",
        "Encoded Msg: Th qck brwn fx ud t slp ie ths bx"
      ],
      "metadata": {
        "id": "X0TJvaDMyDjv"
      }
    },
    {
      "cell_type": "markdown",
      "source": [
        "Q8: Write a program to implement run length encoding of a string\n",
        "\n",
        "RLE: Consecutive repetition of a character has to be replaced with the count of occurances and the character.\n",
        "\n",
        "Enter your string:\n",
        "aabbccdddae\n",
        "\n",
        "\n",
        "Encoded:\n",
        "2a3b2c3d1a1e"
      ],
      "metadata": {
        "id": "3wHFsqoezXLO"
      }
    },
    {
      "cell_type": "code",
      "source": [],
      "metadata": {
        "id": "QuPjMoq6yjb8"
      },
      "execution_count": null,
      "outputs": []
    },
    {
      "cell_type": "code",
      "source": [],
      "metadata": {
        "id": "WuOHjVjiycXN"
      },
      "execution_count": null,
      "outputs": []
    },
    {
      "cell_type": "code",
      "source": [],
      "metadata": {
        "id": "jDhffithvpZa"
      },
      "execution_count": null,
      "outputs": []
    },
    {
      "cell_type": "code",
      "source": [
        "list3=[]\n",
        "type(list3)"
      ],
      "metadata": {
        "colab": {
          "base_uri": "https://localhost:8080/"
        },
        "id": "5xNVwNajo-8n",
        "outputId": "9b594ba0-5a06-4fbe-e75a-7a4cf5916716"
      },
      "execution_count": 8,
      "outputs": [
        {
          "output_type": "execute_result",
          "data": {
            "text/plain": [
              "list"
            ]
          },
          "metadata": {},
          "execution_count": 8
        }
      ]
    }
  ]
}